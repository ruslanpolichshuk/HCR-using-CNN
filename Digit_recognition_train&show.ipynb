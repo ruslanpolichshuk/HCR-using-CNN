{
 "cells": [
  {
   "cell_type": "markdown",
   "metadata": {
    "id": "ZX_FOthq1B2X"
   },
   "source": [
    "# Hadnwritten digit recognition using CNN with Tensorflow"
   ]
  },
  {
   "cell_type": "code",
   "execution_count": null,
   "metadata": {},
   "outputs": [],
   "source": []
  },
  {
   "cell_type": "code",
   "execution_count": 1,
   "metadata": {
    "id": "rrSFNN5s4xhQ"
   },
   "outputs": [],
   "source": [
    "# Initial setup\n",
    "import matplotlib\n",
    "matplotlib.use('Agg')\n",
    "from numpy import mean\n",
    "from numpy import std\n",
    "from matplotlib import pyplot\n",
    "from matplotlib import pyplot as plt\n",
    "%matplotlib inline\n",
    "import numpy as np\n",
    "\n",
    "# MNIST dataset used for this project:\n",
    "from keras.datasets import mnist \n",
    "from tensorflow.keras.utils import to_categorical  # Will be used to categorize an output layer neurons\n",
    "\n",
    "# Import all required layers types\n",
    "from keras.models import Sequential\n",
    "from keras.layers import Conv2D\n",
    "from keras.layers import MaxPooling2D\n",
    "from keras.layers import Dense\n",
    "from keras.layers import BatchNormalization\n",
    "from keras.layers import Flatten\n",
    "from keras.layers import Dropout\n",
    "\n",
    "# Load optimizers\n",
    "from tensorflow.keras.optimizers import Adam\n",
    "from tensorflow.keras.optimizers import SGD\n",
    "\n"
   ]
  },
  {
   "cell_type": "code",
   "execution_count": 2,
   "metadata": {
    "colab": {
     "base_uri": "https://localhost:8080/"
    },
    "id": "eqLskJJKCI6L",
    "outputId": "b49396be-fe44-4faf-a659-3df01dea8ac8"
   },
   "outputs": [],
   "source": [
    "# Data load and preprocess\n",
    "\n",
    "(Xtr_0, Ytr_0), (Xts_0, Yts_0) = mnist.load_data()\n",
    "\n",
    "Xtr = Xtr_0.reshape((Xtr_0.shape[0], 28, 28, 1))  # Training input reshape matrix -> vector\n",
    "Xts = Xts_0.reshape((Xts_0.shape[0], 28, 28, 1))  # Testing input reshape matrix -> vector\n",
    "\t\n",
    "Ytr = to_categorical(Ytr_0) # Represent an output as a vecotr 1x10; exp: 4 -> [0 0 0 0 1 0 0 0 0 0]\n",
    "Yts = to_categorical(Yts_0) # Same for test data\n",
    "\n",
    "# Data normalization\n",
    "Xtr_norm = Xtr.astype('float32')/255.0 \n",
    "Xts_norm = Xts.astype('float32')/255.0 "
   ]
  },
  {
   "cell_type": "code",
   "execution_count": 3,
   "metadata": {
    "id": "6ZgLv1Y6FPLQ"
   },
   "outputs": [],
   "source": [
    "# Definition of a function to build CNN architecture according to the paper (case 1)\n",
    "def CNN_modelSetup(layers):\n",
    "  CNN_model = Sequential()\n",
    "\n",
    "  for l in layers:\n",
    "    if(l == 'conv1'):\n",
    "      CNN_model.add(Conv2D(32, (3, 3), activation='relu', kernel_initializer='he_uniform', input_shape=(28, 28, 1))) #conv1\n",
    "    if(l == 'conv2'):\n",
    "      CNN_model.add(Conv2D(64, (3, 3), activation='relu', kernel_initializer='he_uniform')) #conv2\n",
    "    if(l == 'pool'):\n",
    "      CNN_model.add(MaxPooling2D((2, 2))) #pool1\n",
    "    if(l == 'dropout1'):\n",
    "      CNN_model.add(Dropout(0.25))\n",
    "    if(l == 'flatten'):\n",
    "      CNN_model.add(Flatten())\n",
    "    if(l == 'dense1'):\n",
    "      CNN_model.add(Dense(128, activation='relu', kernel_initializer='he_uniform'))\n",
    "    if(l == 'dropout2'):\n",
    "      CNN_model.add(Dropout(0.5))\n",
    "    if(l == 'dense2'):\n",
    "      CNN_model.add(Dense(10, activation='softmax'))\n",
    "\t# compile model\n",
    "  opt = Adam(learning_rate=0.005)\n",
    "  # opt = SGD(learning_rate=0.01, momentum=0.9)\n",
    "  CNN_model.compile(optimizer=opt, loss='categorical_crossentropy', metrics=['accuracy'])\n",
    "  return CNN_model\n"
   ]
  },
  {
   "cell_type": "code",
   "execution_count": 4,
   "metadata": {
    "id": "OBdCH-m8TA6o"
   },
   "outputs": [],
   "source": [
    "case = [\n",
    "        ['conv1', 'conv2', 'pool', 'dropout1', 'flatten1', 'dense1', 'dropout2', 'dense2'],\n",
    "        ['conv1', 'pool', 'conv2', 'pool', 'dropout1', 'flatten', 'dense1', 'dropout2', 'dense2'],\n",
    "        ['conv1', 'conv2', 'pool', 'flatten', 'dense1', 'dense2'],\n",
    "        ['conv1', 'pool', 'conv2', 'pool', 'flatten', 'dense1', 'dense2'],\n",
    "        ['conv1', 'conv2', 'pool', 'flatten', 'dense1', 'dropout1', 'dense2'],\n",
    "        ['conv1', 'pool', 'conv2', 'pool', 'flatten', 'dense1', 'dropout1', 'dense2']\n",
    "]"
   ]
  },
  {
   "cell_type": "code",
   "execution_count": 5,
   "metadata": {
    "colab": {
     "base_uri": "https://localhost:8080/"
    },
    "id": "T0hHrZsnnbyK",
    "outputId": "bb4ac9a1-082c-45f6-8874-c9fa60e994dd"
   },
   "outputs": [
    {
     "name": "stdout",
     "output_type": "stream",
     "text": [
      "Epoch 1/15\n",
      "600/600 - 27s - loss: 0.2185 - accuracy: 0.9373 - val_loss: 0.0537 - val_accuracy: 0.9832\n",
      "Epoch 2/15\n",
      "600/600 - 25s - loss: 0.0713 - accuracy: 0.9786 - val_loss: 0.0381 - val_accuracy: 0.9884\n",
      "Epoch 3/15\n",
      "600/600 - 25s - loss: 0.0573 - accuracy: 0.9825 - val_loss: 0.0344 - val_accuracy: 0.9888\n",
      "Epoch 4/15\n",
      "600/600 - 25s - loss: 0.0506 - accuracy: 0.9842 - val_loss: 0.0439 - val_accuracy: 0.9863\n",
      "Epoch 5/15\n",
      "600/600 - 25s - loss: 0.0429 - accuracy: 0.9866 - val_loss: 0.0366 - val_accuracy: 0.9885\n",
      "Epoch 6/15\n",
      "600/600 - 25s - loss: 0.0388 - accuracy: 0.9876 - val_loss: 0.0466 - val_accuracy: 0.9869\n",
      "Epoch 7/15\n",
      "600/600 - 25s - loss: 0.0370 - accuracy: 0.9884 - val_loss: 0.0344 - val_accuracy: 0.9915\n",
      "Epoch 8/15\n",
      "600/600 - 26s - loss: 0.0334 - accuracy: 0.9895 - val_loss: 0.0361 - val_accuracy: 0.9898\n",
      "Epoch 9/15\n",
      "600/600 - 26s - loss: 0.0313 - accuracy: 0.9897 - val_loss: 0.0365 - val_accuracy: 0.9908\n",
      "Epoch 10/15\n",
      "600/600 - 26s - loss: 0.0306 - accuracy: 0.9899 - val_loss: 0.0427 - val_accuracy: 0.9903\n",
      "Epoch 11/15\n",
      "600/600 - 25s - loss: 0.0322 - accuracy: 0.9901 - val_loss: 0.0356 - val_accuracy: 0.9899\n",
      "Epoch 12/15\n",
      "600/600 - 25s - loss: 0.0271 - accuracy: 0.9916 - val_loss: 0.0440 - val_accuracy: 0.9883\n",
      "Epoch 13/15\n",
      "600/600 - 25s - loss: 0.0247 - accuracy: 0.9922 - val_loss: 0.0565 - val_accuracy: 0.9865\n",
      "Epoch 14/15\n",
      "600/600 - 25s - loss: 0.0266 - accuracy: 0.9915 - val_loss: 0.0579 - val_accuracy: 0.9870\n",
      "Epoch 15/15\n",
      "600/600 - 26s - loss: 0.0239 - accuracy: 0.9923 - val_loss: 0.0495 - val_accuracy: 0.9881\n"
     ]
    }
   ],
   "source": [
    "#Model training\n",
    "CNN_mod = CNN_modelSetup(case[5])\n",
    "CNN_mod.fit(Xtr_norm, Ytr, validation_data=(Xts_norm, Yts), epochs=15, batch_size=100, verbose=2)\n",
    "scores = CNN_mod.evaluate(Xts_norm, Yts, verbose=0)\n",
    "CNN_mod.save(\"CNN_HDR_case6.h5\")"
   ]
  },
  {
   "cell_type": "code",
   "execution_count": 8,
   "metadata": {
    "colab": {
     "base_uri": "https://localhost:8080/",
     "height": 280
    },
    "id": "aoBFYbcMmg8M",
    "outputId": "792dcb0b-fab4-4b29-b950-4d60c7a37e5a"
   },
   "outputs": [
    {
     "data": {
      "image/png": "[encoded data removed]",
      "text/plain": [
       "<Figure size 1080x216 with 5 Axes>"
      ]
     },
     "metadata": {
      "needs_background": "light"
     },
     "output_type": "display_data"
    }
   ],
   "source": [
    "# Make prediction\n",
    "CNN_mod.save(\"CNN_HDR_case6.h5\")\n",
    "predictions = CNN_mod.predict(Xts)\n",
    "classes_x=np.argmax(predictions,axis=1)\n",
    "\n",
    "# Compare predicted and actual classes\n",
    "rndmind = np.random.choice(range(len(Xts)), 5)\n",
    "fig = plt.figure(figsize=(15, 3))\n",
    "for i, idx in enumerate(rndmind):\n",
    "    img = Xts_0[idx] \n",
    "    ax = fig.add_subplot(1, 5, i+1)\n",
    "    ax.axis('off')\n",
    "    ax.text(0.5, -0.35, 'predicted = ' + str(classes_x[idx]), fontsize=22, ha='center', transform=ax.transAxes) \n",
    "    ax.text(0.5, -0.7, 'actual = ' + str(Yts_0[idx]), fontsize=22, ha='center', transform=ax.transAxes)\n",
    "    ax.imshow(img, cmap='binary')"
   ]
  },
  {
   "cell_type": "code",
   "execution_count": 29,
   "metadata": {},
   "outputs": [],
   "source": [
    "# GUI for digit recognition. Source: https://github.com/shafinhasnat/English-digit-recognition-GUI-with-tkinter\n",
    "import tensorflow as tf\n",
    "from keras.models import load_model\n",
    "import cv2\n",
    "import numpy as np\n",
    "import os\n",
    "import pytesseract\n",
    "pytesseract.pytesseract.tesseract_cmd = 'C:\\\\Program Files\\\\Tesseract-OCR\\\\tesseract.exe'\n",
    "\n",
    "from PIL import ImageTk, Image, ImageDraw\n",
    "import PIL\n",
    "import PIL.Image as Img\n",
    "import tkinter as tk\n",
    "from tkinter import *\n",
    "\n",
    "classes=[0,1,2,3,4,5,6,7,8,9]\n",
    "width = 800\n",
    "height = 300\n",
    "center = height//2\n",
    "white = (255, 255, 255)\n",
    "green = (0,128,0)\n",
    "\n",
    "modelCNN=tf.keras.models.load_model('CNN_HDR_case6.h5') # Load our model\n",
    "\n",
    "def paint(event):\n",
    "    x1, y1 = (event.x - 10), (event.y - 10)\n",
    "    x2, y2 = (event.x + 10), (event.y + 10)\n",
    "    cv.create_oval(x1, y1, x2, y2, fill=\"black\",width=10)\n",
    "    draw.line([x1, y1, x2, y2],fill=\"black\",width=10)\n",
    "    \n",
    "def model():\n",
    "    filename = \"./image.png\"\n",
    "    image1.save(filename)\n",
    "    nchar=segmentation(filename)\n",
    "    txt.insert(tk.INSERT, \"Prediction: \")\n",
    "    for i in range(nchar):\n",
    "        pred=testing(i+1)\n",
    "        txt.insert(tk.INSERT,\"{}\".format(classes[pred[0]]))\n",
    "    \n",
    "def clear():\n",
    "    cv.delete('all')\n",
    "    draw.rectangle((0, 0, 5000, 5000), fill=(255, 255, 255, 0))\n",
    "    txt.delete('1.0', END)\n",
    "    import os\n",
    "    filename = \"./image.png\"\n",
    "    nchar=segmentation(filename)\n",
    "    for i in range(nchar):\n",
    "        os.remove('./char_' +str(i+1)+'.png')\n",
    "\n",
    "def testing(charnum):\n",
    "    img=cv2.imread('char_' +str(charnum)+'.png',0)\n",
    "    img=cv2.bitwise_not(img)\n",
    "    #cv2.imshow('img',img)\n",
    "    img=cv2.resize(img,(28,28))\n",
    "    img=img.reshape(1,28,28,1)\n",
    "    img=img.astype('float32')\n",
    "    img=img/255.0 \n",
    "    pred=modelCNN.predict(img)\n",
    "    classes_x=np.argmax(pred,axis=1)\n",
    "    \n",
    "    return classes_x\n",
    "\n",
    "def segmentation(file):\n",
    "    #file = \"./image.png\"\n",
    "    img = cv2.imread(file)\n",
    "    h, w, _ = img.shape\n",
    "    boxes = pytesseract.image_to_boxes(img)\n",
    "    charcoordintates=boxes.splitlines()\n",
    "    nchar=len(charcoordintates)\n",
    "    k=1;\n",
    "    for b in boxes.splitlines():\n",
    "        b = b.split(' ')\n",
    "        img = cv2.rectangle(img, (int(b[1]), h - int(b[2])), (int(b[3]), h - int(b[4])), (0, 255, 0), 2)\n",
    "        fp = open(file,\"rb\")\n",
    "        imageObject = PIL.Image.open(fp)\n",
    "        #imageObject = Image.open('image.png')\n",
    "        cropped = imageObject.crop((int(b[1]), \n",
    "                                    h-int(b[4]),\n",
    "                                    int(b[3]),\n",
    "                                    h-int(b[2]),\n",
    "                                   ))\n",
    "        card = Img.new(\"RGBA\", (300, 300), (255, 255, 255))\n",
    "\n",
    "        img2 = cropped.convert(\"RGBA\")\n",
    "        x, y = img2.size\n",
    "        ov=75\n",
    "        card.paste(img2, (ov, ov, x+ov, y+ov), img2)\n",
    "        card.save('char_' +str(k)+'.png', 'PNG')\n",
    "        k=k+1\n",
    "    return nchar\n",
    "    \n",
    "root = Tk()\n",
    "##root.geometry('1000x500') \n",
    "\n",
    "root.resizable(0,0)\n",
    "cv = Canvas(root, width=width, height=height, bg='white')\n",
    "cv.pack()\n",
    "\n",
    "# PIL create an empty image and draw object to draw on\n",
    "# memory only, not visible\n",
    "image1 = PIL.Image.new(\"RGB\", (width, height), white)\n",
    "draw = ImageDraw.Draw(image1)\n",
    "\n",
    "txt=tk.Text(root,bd=3,exportselection=0,bg='WHITE',font='Helvetica',\n",
    "            padx=10,pady=10,height=5,width=20)\n",
    "\n",
    "cv.pack(expand=YES, fill=BOTH)\n",
    "cv.bind(\"<B1-Motion>\", paint)\n",
    "\n",
    "##button=Button(text=\"save\",command=save)\n",
    "btnModel=Button(text=\"Predict\",command=model)\n",
    "btnClear=Button(text=\"clear\",command=clear)\n",
    "##button.pack()\n",
    "btnModel.pack()\n",
    "btnClear.pack()\n",
    "txt.pack()\n",
    "root.title('Digit recognition')\n",
    "root.mainloop()"
   ]
  },
  {
   "cell_type": "code",
   "execution_count": null,
   "metadata": {},
   "outputs": [],
   "source": []
  }
 ],
 "metadata": {
  "accelerator": "GPU",
  "colab": {
   "collapsed_sections": [],
   "name": "Digit_recognition1.ipynb",
   "provenance": []
  },
  "kernelspec": {
   "display_name": "Python 3",
   "language": "python",
   "name": "python3"
  },
  "language_info": {
   "codemirror_mode": {
    "name": "ipython",
    "version": 3
   },
   "file_extension": ".py",
   "mimetype": "text/x-python",
   "name": "python",
   "nbconvert_exporter": "python",
   "pygments_lexer": "ipython3",
   "version": "3.8.8"
  }
 },
 "nbformat": 4,
 "nbformat_minor": 4
}
